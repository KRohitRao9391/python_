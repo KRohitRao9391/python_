{
 "cells": [
  {
   "cell_type": "code",
   "execution_count": null,
   "id": "0c65e08b-f78c-4644-a8ef-c2b4acfa149f",
   "metadata": {},
   "outputs": [],
   "source": [
    "def functionname (Parameter):\n",
    "    block oof code\n",
    "    return output"
   ]
  },
  {
   "cell_type": "code",
   "execution_count": 8,
   "id": "f532961c-72fe-40d7-9b34-8b01c27c125a",
   "metadata": {},
   "outputs": [],
   "source": [
    "def calArea(r):\n",
    "    a=3.14*r*r\n",
    "    return a\n"
   ]
  },
  {
   "cell_type": "code",
   "execution_count": 12,
   "id": "9e7da851-45ff-47f4-8803-91ff225588d1",
   "metadata": {},
   "outputs": [
    {
     "data": {
      "text/plain": [
       "2826.0"
      ]
     },
     "execution_count": 12,
     "metadata": {},
     "output_type": "execute_result"
    }
   ],
   "source": [
    "calArea(r=30)"
   ]
  },
  {
   "cell_type": "code",
   "execution_count": 14,
   "id": "5a0dff1e-8166-43e2-a936-82e2fe970338",
   "metadata": {},
   "outputs": [
    {
     "data": {
      "text/plain": [
       "314.0"
      ]
     },
     "execution_count": 14,
     "metadata": {},
     "output_type": "execute_result"
    }
   ],
   "source": [
    "w=calArea(r=10)\n",
    "w"
   ]
  },
  {
   "cell_type": "code",
   "execution_count": 16,
   "id": "43b3b67d-f2fe-437c-983b-7931920d225b",
   "metadata": {},
   "outputs": [
    {
     "data": {
      "text/plain": [
       "float"
      ]
     },
     "execution_count": 16,
     "metadata": {},
     "output_type": "execute_result"
    }
   ],
   "source": [
    "type(w)"
   ]
  },
  {
   "cell_type": "code",
   "execution_count": 18,
   "id": "b91f9d17-a2ab-4eb3-8dfc-c461519da46a",
   "metadata": {},
   "outputs": [],
   "source": [
    "def aor(l,w):\n",
    "    area=l*w\n",
    "    return area"
   ]
  },
  {
   "cell_type": "code",
   "execution_count": 20,
   "id": "c1ea83bb-1e58-44a6-9770-e5e158d5db9d",
   "metadata": {},
   "outputs": [
    {
     "data": {
      "text/plain": [
       "50"
      ]
     },
     "execution_count": 20,
     "metadata": {},
     "output_type": "execute_result"
    }
   ],
   "source": [
    "aor(w=5,l=10)"
   ]
  },
  {
   "cell_type": "code",
   "execution_count": 22,
   "id": "4ffefc0f-f212-47b8-854b-5864230fbb6e",
   "metadata": {},
   "outputs": [
    {
     "data": {
      "text/plain": [
       "50"
      ]
     },
     "execution_count": 22,
     "metadata": {},
     "output_type": "execute_result"
    }
   ],
   "source": [
    "aor(5,10)"
   ]
  },
  {
   "cell_type": "code",
   "execution_count": 26,
   "id": "5e39d4d0-a9d5-4022-ad30-b926d6976283",
   "metadata": {},
   "outputs": [
    {
     "data": {
      "text/plain": [
       "50"
      ]
     },
     "execution_count": 26,
     "metadata": {},
     "output_type": "execute_result"
    }
   ],
   "source": [
    "aor(l=5,w=10)"
   ]
  },
  {
   "cell_type": "code",
   "execution_count": 64,
   "id": "31b55097-2acf-4b7e-9543-6a9bf8190e80",
   "metadata": {},
   "outputs": [],
   "source": [
    "def area(w,r,l):\n",
    "    circle=3.14*r*r\n",
    "    aor=l*w\n",
    "    return (aor,circle)"
   ]
  },
  {
   "cell_type": "code",
   "execution_count": 66,
   "id": "581830ae-efec-481a-9f63-17c6cf56af60",
   "metadata": {},
   "outputs": [
    {
     "data": {
      "text/plain": [
       "(10, 50.24)"
      ]
     },
     "execution_count": 66,
     "metadata": {},
     "output_type": "execute_result"
    }
   ],
   "source": [
    "area(w=2,r=4,l=5)"
   ]
  },
  {
   "cell_type": "code",
   "execution_count": 68,
   "id": "6a1c8e7c-afe4-470b-9103-13986df70718",
   "metadata": {},
   "outputs": [],
   "source": [
    "def area(w,r,l):\n",
    "    circle=3.14*r*r\n",
    "    aor=l*w\n",
    "    return [aor,circle]"
   ]
  },
  {
   "cell_type": "code",
   "execution_count": 70,
   "id": "d255066c-0bab-4bf0-9982-e2679ef8a81b",
   "metadata": {},
   "outputs": [
    {
     "data": {
      "text/plain": [
       "[10, 50.24]"
      ]
     },
     "execution_count": 70,
     "metadata": {},
     "output_type": "execute_result"
    }
   ],
   "source": [
    "area(w=2,r=4,l=5)"
   ]
  },
  {
   "cell_type": "code",
   "execution_count": 72,
   "id": "f3f6d7cc-cb0f-4598-a638-de74b0e73317",
   "metadata": {},
   "outputs": [
    {
     "data": {
      "text/plain": [
       "'HyderabAAd 500008 Telangana'"
      ]
     },
     "execution_count": 72,
     "metadata": {},
     "output_type": "execute_result"
    }
   ],
   "source": [
    "t=\"HyderabAAd 500008 Telangana\"\n",
    "t"
   ]
  },
  {
   "cell_type": "code",
   "execution_count": 98,
   "id": "7218a642-39d3-4144-a18f-83f2886e6453",
   "metadata": {},
   "outputs": [],
   "source": [
    "def hi(x):\n",
    "    b=x.lower()\n",
    "    \n",
    "    return b.count(\"a\")"
   ]
  },
  {
   "cell_type": "code",
   "execution_count": 100,
   "id": "97540e6f-eb91-40dc-a951-b7616bd0eaf1",
   "metadata": {},
   "outputs": [
    {
     "data": {
      "text/plain": [
       "6"
      ]
     },
     "execution_count": 100,
     "metadata": {},
     "output_type": "execute_result"
    }
   ],
   "source": [
    "hi(t)"
   ]
  },
  {
   "cell_type": "code",
   "execution_count": 106,
   "id": "7eb2460b-3b75-41bd-ad3e-ab9ec6390089",
   "metadata": {},
   "outputs": [],
   "source": [
    "def hi(e):\n",
    "    c=e.integer()\n",
    "    d=e.upper()\n",
    "    return c,d.count(\"c,d\")"
   ]
  },
  {
   "cell_type": "code",
   "execution_count": 108,
   "id": "cfecd39a-f121-424c-b998-a8ae59678843",
   "metadata": {},
   "outputs": [
    {
     "ename": "AttributeError",
     "evalue": "'str' object has no attribute 'integer'",
     "output_type": "error",
     "traceback": [
      "\u001b[1;31m---------------------------------------------------------------------------\u001b[0m",
      "\u001b[1;31mAttributeError\u001b[0m                            Traceback (most recent call last)",
      "Cell \u001b[1;32mIn[108], line 1\u001b[0m\n\u001b[1;32m----> 1\u001b[0m hi(t)\n",
      "Cell \u001b[1;32mIn[106], line 2\u001b[0m, in \u001b[0;36mhi\u001b[1;34m(e)\u001b[0m\n\u001b[0;32m      1\u001b[0m \u001b[38;5;28;01mdef\u001b[39;00m \u001b[38;5;21mhi\u001b[39m(e):\n\u001b[1;32m----> 2\u001b[0m     c\u001b[38;5;241m=\u001b[39me\u001b[38;5;241m.\u001b[39minteger()\n\u001b[0;32m      3\u001b[0m     d\u001b[38;5;241m=\u001b[39me\u001b[38;5;241m.\u001b[39mupper()\n\u001b[0;32m      4\u001b[0m     \u001b[38;5;28;01mreturn\u001b[39;00m c,d\u001b[38;5;241m.\u001b[39mcount(\u001b[38;5;124m\"\u001b[39m\u001b[38;5;124mc,d\u001b[39m\u001b[38;5;124m\"\u001b[39m)\n",
      "\u001b[1;31mAttributeError\u001b[0m: 'str' object has no attribute 'integer'"
     ]
    }
   ],
   "source": [
    "hi(t)"
   ]
  },
  {
   "cell_type": "code",
   "execution_count": 114,
   "id": "461a0d62-1012-4330-a7d7-5b8bcbd0eacf",
   "metadata": {},
   "outputs": [],
   "source": [
    "def count(x):\n",
    "    c=0\n",
    "    d=0\n",
    "    for i in x:\n",
    "        if i.isalpha():\n",
    "            c+=1\n",
    "        elif i.isnumeric():\n",
    "            d+=1\n",
    "    return {\"number of alphabets\":c,\"number of digits\":d}\n",
    "        \n",
    "        "
   ]
  },
  {
   "cell_type": "code",
   "execution_count": 118,
   "id": "2714b3a8-2bdc-4065-8f83-82963534dc3c",
   "metadata": {},
   "outputs": [
    {
     "data": {
      "text/plain": [
       "{'number of alphabets': 19, 'number of digits': 6}"
      ]
     },
     "execution_count": 118,
     "metadata": {},
     "output_type": "execute_result"
    }
   ],
   "source": [
    "count(t)"
   ]
  },
  {
   "cell_type": "code",
   "execution_count": null,
   "id": "77190ebc-6844-4949-be6c-278daacb60ae",
   "metadata": {},
   "outputs": [],
   "source": []
  }
 ],
 "metadata": {
  "kernelspec": {
   "display_name": "Python [conda env:base] *",
   "language": "python",
   "name": "conda-base-py"
  },
  "language_info": {
   "codemirror_mode": {
    "name": "ipython",
    "version": 3
   },
   "file_extension": ".py",
   "mimetype": "text/x-python",
   "name": "python",
   "nbconvert_exporter": "python",
   "pygments_lexer": "ipython3",
   "version": "3.12.7"
  }
 },
 "nbformat": 4,
 "nbformat_minor": 5
}
