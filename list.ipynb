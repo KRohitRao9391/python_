{
 "cells": [
  {
   "cell_type": "code",
   "execution_count": 19,
   "id": "7cbbcbf3-d1c4-4ed5-9a52-0be81a84a481",
   "metadata": {},
   "outputs": [
    {
     "data": {
      "text/plain": [
       "[25, 78, 65, 90, 100]"
      ]
     },
     "execution_count": 19,
     "metadata": {},
     "output_type": "execute_result"
    }
   ],
   "source": [
    "a=[25,78,65,90,100]\n",
    "a"
   ]
  },
  {
   "cell_type": "code",
   "execution_count": 3,
   "id": "68077643-6f63-4990-9c7e-aa44185b419b",
   "metadata": {},
   "outputs": [
    {
     "data": {
      "text/plain": [
       "list"
      ]
     },
     "execution_count": 3,
     "metadata": {},
     "output_type": "execute_result"
    }
   ],
   "source": [
    "type(b)"
   ]
  },
  {
   "cell_type": "code",
   "execution_count": 5,
   "id": "9535628d-622e-43bb-982c-134160bc16f6",
   "metadata": {},
   "outputs": [
    {
     "data": {
      "text/plain": [
       "[12, 2.4, 'Aravind', True, False]"
      ]
     },
     "execution_count": 5,
     "metadata": {},
     "output_type": "execute_result"
    }
   ],
   "source": [
    "b=[12,2.4,\"Aravind\",True,False]\n",
    "b"
   ]
  },
  {
   "cell_type": "code",
   "execution_count": 7,
   "id": "7344cd14-8ed9-44ad-b6c1-fb54849701d3",
   "metadata": {},
   "outputs": [
    {
     "data": {
      "text/plain": [
       "list"
      ]
     },
     "execution_count": 7,
     "metadata": {},
     "output_type": "execute_result"
    }
   ],
   "source": [
    "type(b)"
   ]
  },
  {
   "cell_type": "code",
   "execution_count": 9,
   "id": "991453eb-39ab-437d-acd6-521e6151f744",
   "metadata": {},
   "outputs": [
    {
     "data": {
      "text/plain": [
       "'Aravind'"
      ]
     },
     "execution_count": 9,
     "metadata": {},
     "output_type": "execute_result"
    }
   ],
   "source": [
    "b[2]"
   ]
  },
  {
   "cell_type": "code",
   "execution_count": 11,
   "id": "a9453730-4cee-4923-8409-3821f4d3c171",
   "metadata": {},
   "outputs": [
    {
     "data": {
      "text/plain": [
       "False"
      ]
     },
     "execution_count": 11,
     "metadata": {},
     "output_type": "execute_result"
    }
   ],
   "source": [
    "b[4]"
   ]
  },
  {
   "cell_type": "code",
   "execution_count": 13,
   "id": "d655ea1e-19ee-4b97-b0d5-d9d08bbf4a27",
   "metadata": {},
   "outputs": [
    {
     "data": {
      "text/plain": [
       "False"
      ]
     },
     "execution_count": 13,
     "metadata": {},
     "output_type": "execute_result"
    }
   ],
   "source": [
    "b[-1]"
   ]
  },
  {
   "cell_type": "code",
   "execution_count": 15,
   "id": "daf5c3a1-6f07-4142-bccc-d92f52887a13",
   "metadata": {},
   "outputs": [
    {
     "data": {
      "text/plain": [
       "['Aravind', True, False]"
      ]
     },
     "execution_count": 15,
     "metadata": {},
     "output_type": "execute_result"
    }
   ],
   "source": [
    "b[2:5]"
   ]
  },
  {
   "cell_type": "code",
   "execution_count": 17,
   "id": "eea34415-920e-44b7-b70b-960ce099057a",
   "metadata": {},
   "outputs": [
    {
     "data": {
      "text/plain": [
       "[12, 2.4, 'Aravind', True, False]"
      ]
     },
     "execution_count": 17,
     "metadata": {},
     "output_type": "execute_result"
    }
   ],
   "source": [
    "b[ : 5]"
   ]
  },
  {
   "cell_type": "code",
   "execution_count": 21,
   "id": "8261607f-1b02-40b0-b9b2-8cf35290159b",
   "metadata": {},
   "outputs": [
    {
     "data": {
      "text/plain": [
       "[12, 2.4, 'Aravind', True, False]"
      ]
     },
     "execution_count": 21,
     "metadata": {},
     "output_type": "execute_result"
    }
   ],
   "source": [
    "b"
   ]
  },
  {
   "cell_type": "code",
   "execution_count": 21,
   "id": "cc5fae81-4030-4c70-8a3a-31857aabb5b5",
   "metadata": {},
   "outputs": [
    {
     "data": {
      "text/plain": [
       "[25, 78, 65, 90, 100]"
      ]
     },
     "execution_count": 21,
     "metadata": {},
     "output_type": "execute_result"
    }
   ],
   "source": [
    "a"
   ]
  },
  {
   "cell_type": "code",
   "execution_count": 23,
   "id": "27f5a51c-ec3b-4d69-9fc6-952057135884",
   "metadata": {},
   "outputs": [
    {
     "data": {
      "text/plain": [
       "[25, 65, 100]"
      ]
     },
     "execution_count": 23,
     "metadata": {},
     "output_type": "execute_result"
    }
   ],
   "source": [
    "a[0::2]"
   ]
  },
  {
   "cell_type": "code",
   "execution_count": 27,
   "id": "a2db327e-83d1-4871-adb1-7e224ced9a94",
   "metadata": {},
   "outputs": [
    {
     "ename": "NameError",
     "evalue": "name 'b' is not defined",
     "output_type": "error",
     "traceback": [
      "\u001b[1;31m---------------------------------------------------------------------------\u001b[0m",
      "\u001b[1;31mNameError\u001b[0m                                 Traceback (most recent call last)",
      "Cell \u001b[1;32mIn[27], line 1\u001b[0m\n\u001b[1;32m----> 1\u001b[0m b\n",
      "\u001b[1;31mNameError\u001b[0m: name 'b' is not defined"
     ]
    }
   ],
   "source": [
    "b"
   ]
  },
  {
   "cell_type": "code",
   "execution_count": 29,
   "id": "38418e5d-2c92-45e6-a63b-3ae3591e9a76",
   "metadata": {},
   "outputs": [
    {
     "data": {
      "text/plain": [
       "[25, 78, 65, 90, 100]"
      ]
     },
     "execution_count": 29,
     "metadata": {},
     "output_type": "execute_result"
    }
   ],
   "source": [
    "a"
   ]
  },
  {
   "cell_type": "code",
   "execution_count": 31,
   "id": "1893a00c-28e3-4a90-afb8-0365dd7532d5",
   "metadata": {},
   "outputs": [
    {
     "data": {
      "text/plain": [
       "[12, 2.4, 'Aravind', True, False, 'hyd']"
      ]
     },
     "execution_count": 31,
     "metadata": {},
     "output_type": "execute_result"
    }
   ],
   "source": [
    "c=[12, 2.4, 'Aravind', True, False,\"hyd\"]\n",
    "c"
   ]
  },
  {
   "cell_type": "code",
   "execution_count": 33,
   "id": "dd0dbb35-a286-4433-8c9b-3a8f173fa747",
   "metadata": {},
   "outputs": [
    {
     "data": {
      "text/plain": [
       "[]"
      ]
     },
     "execution_count": 33,
     "metadata": {},
     "output_type": "execute_result"
    }
   ],
   "source": [
    "c[-1:-5]"
   ]
  },
  {
   "cell_type": "code",
   "execution_count": 35,
   "id": "49f2350a-ba35-4db5-a0b4-87dee25e4f42",
   "metadata": {},
   "outputs": [
    {
     "data": {
      "text/plain": [
       "['hyd', False, True, 'Aravind']"
      ]
     },
     "execution_count": 35,
     "metadata": {},
     "output_type": "execute_result"
    }
   ],
   "source": [
    "c[-1:-5:-1]"
   ]
  },
  {
   "cell_type": "code",
   "execution_count": 37,
   "id": "c4d427f2-7f2e-4dc7-afd8-25632c5ac682",
   "metadata": {},
   "outputs": [
    {
     "data": {
      "text/plain": [
       "[12, 2.4, 'Aravind', True, False, 'hyd']"
      ]
     },
     "execution_count": 37,
     "metadata": {},
     "output_type": "execute_result"
    }
   ],
   "source": [
    "c"
   ]
  },
  {
   "cell_type": "code",
   "execution_count": 45,
   "id": "387dbbff-f731-4b39-ab17-76d88e10676e",
   "metadata": {},
   "outputs": [
    {
     "data": {
      "text/plain": [
       "[False, True, 'Aravind', 2.4]"
      ]
     },
     "execution_count": 45,
     "metadata": {},
     "output_type": "execute_result"
    }
   ],
   "source": [
    "c[4:0:-1]"
   ]
  },
  {
   "cell_type": "code",
   "execution_count": 47,
   "id": "e405b1c1-d0e0-486b-bd3c-847d22f06674",
   "metadata": {},
   "outputs": [
    {
     "data": {
      "text/plain": [
       "[203, 'hyderabad', 45, True, False, 78, 175, 34.9]"
      ]
     },
     "execution_count": 47,
     "metadata": {},
     "output_type": "execute_result"
    }
   ],
   "source": [
    "c=[203,\"hyderabad\",45,True,False,78,175,34.90]\n",
    "c"
   ]
  },
  {
   "cell_type": "code",
   "execution_count": 49,
   "id": "f135b139-cba1-463b-94d4-e7f8f0f03cfe",
   "metadata": {},
   "outputs": [
    {
     "data": {
      "text/plain": [
       "True"
      ]
     },
     "execution_count": 49,
     "metadata": {},
     "output_type": "execute_result"
    }
   ],
   "source": [
    "c[3]"
   ]
  },
  {
   "cell_type": "code",
   "execution_count": 51,
   "id": "810f1852-3574-4c0c-80bd-6c079e98c89e",
   "metadata": {},
   "outputs": [
    {
     "data": {
      "text/plain": [
       "203"
      ]
     },
     "execution_count": 51,
     "metadata": {},
     "output_type": "execute_result"
    }
   ],
   "source": [
    "c[0]\n"
   ]
  },
  {
   "cell_type": "code",
   "execution_count": 53,
   "id": "ed0197e9-7e04-4cbe-b897-129610ec7820",
   "metadata": {},
   "outputs": [
    {
     "data": {
      "text/plain": [
       "['hyderabad', 45, True, False, 78]"
      ]
     },
     "execution_count": 53,
     "metadata": {},
     "output_type": "execute_result"
    }
   ],
   "source": [
    "c[1:6]"
   ]
  },
  {
   "cell_type": "code",
   "execution_count": 55,
   "id": "eec4310f-a7d6-4dc5-9acc-8bfa89c3feee",
   "metadata": {},
   "outputs": [
    {
     "data": {
      "text/plain": [
       "[34.9, False, 'hyderabad']"
      ]
     },
     "execution_count": 55,
     "metadata": {},
     "output_type": "execute_result"
    }
   ],
   "source": [
    "c[-1::-3]"
   ]
  },
  {
   "cell_type": "code",
   "execution_count": 57,
   "id": "8651bf2e-2518-4944-9f63-196fe9fb04e8",
   "metadata": {},
   "outputs": [
    {
     "data": {
      "text/plain": [
       "[]"
      ]
     },
     "execution_count": 57,
     "metadata": {},
     "output_type": "execute_result"
    }
   ],
   "source": [
    "c[6:2]"
   ]
  },
  {
   "cell_type": "code",
   "execution_count": 59,
   "id": "d81edd0e-4a4c-4bda-ab00-7e7d0aa80bcd",
   "metadata": {},
   "outputs": [
    {
     "data": {
      "text/plain": [
       "[175, 78, False, True]"
      ]
     },
     "execution_count": 59,
     "metadata": {},
     "output_type": "execute_result"
    }
   ],
   "source": [
    "c[6:2:-1]"
   ]
  },
  {
   "cell_type": "markdown",
   "id": "2f66b2f2-2e7a-4077-8f10-6e3635bfd599",
   "metadata": {},
   "source": [
    "# list methods"
   ]
  },
  {
   "cell_type": "markdown",
   "id": "f4549e67-a66c-4094-b5ef-77ee514e50de",
   "metadata": {},
   "source": [
    "append\n",
    "inset\n",
    "extend\n",
    "pop\n",
    "remove\n",
    "clear\n",
    "count\n",
    "index"
   ]
  },
  {
   "cell_type": "code",
   "execution_count": 67,
   "id": "dd3a2992-d9ea-43ce-992e-4190999bf600",
   "metadata": {},
   "outputs": [
    {
     "data": {
      "text/plain": [
       "[203, 'hyderabad', 45, True, False, 78, 175, 34.9]"
      ]
     },
     "execution_count": 67,
     "metadata": {},
     "output_type": "execute_result"
    }
   ],
   "source": [
    "c"
   ]
  },
  {
   "cell_type": "code",
   "execution_count": 73,
   "id": "b7515dab-8808-4da2-bb09-28f46bfb5e46",
   "metadata": {},
   "outputs": [],
   "source": [
    "c.append(80)\n"
   ]
  },
  {
   "cell_type": "code",
   "execution_count": 75,
   "id": "70df0495-8962-487c-9d61-b790928fef2a",
   "metadata": {},
   "outputs": [
    {
     "data": {
      "text/plain": [
       "[203, 'hyderabad', 45, True, False, 78, 175, 34.9, 80, 80, 80]"
      ]
     },
     "execution_count": 75,
     "metadata": {},
     "output_type": "execute_result"
    }
   ],
   "source": [
    "c"
   ]
  },
  {
   "cell_type": "code",
   "execution_count": 81,
   "id": "6a36dea2-f88f-478c-8ae1-19bf6a758ed9",
   "metadata": {},
   "outputs": [
    {
     "ename": "TypeError",
     "evalue": "list.remove() takes exactly one argument (2 given)",
     "output_type": "error",
     "traceback": [
      "\u001b[1;31m---------------------------------------------------------------------------\u001b[0m",
      "\u001b[1;31mTypeError\u001b[0m                                 Traceback (most recent call last)",
      "Cell \u001b[1;32mIn[81], line 1\u001b[0m\n\u001b[1;32m----> 1\u001b[0m c\u001b[38;5;241m.\u001b[39mremove(\u001b[38;5;241m80\u001b[39m,\u001b[38;5;241m80\u001b[39m)\n",
      "\u001b[1;31mTypeError\u001b[0m: list.remove() takes exactly one argument (2 given)"
     ]
    }
   ],
   "source": [
    "c.remove(80)"
   ]
  },
  {
   "cell_type": "code",
   "execution_count": 83,
   "id": "982c6c11-3855-44ce-92d3-d3703752329b",
   "metadata": {},
   "outputs": [],
   "source": [
    "c.remove(80)"
   ]
  },
  {
   "cell_type": "code",
   "execution_count": 85,
   "id": "8c810090-ac91-4882-bac4-a1542833c3fc",
   "metadata": {},
   "outputs": [
    {
     "data": {
      "text/plain": [
       "[203, 'hyderabad', 45, True, False, 78, 175, 34.9, 80]"
      ]
     },
     "execution_count": 85,
     "metadata": {},
     "output_type": "execute_result"
    }
   ],
   "source": [
    "c"
   ]
  },
  {
   "cell_type": "code",
   "execution_count": 87,
   "id": "b758d5a3-678b-4975-bd4a-b6ea67173a9f",
   "metadata": {},
   "outputs": [
    {
     "data": {
      "text/plain": [
       "175"
      ]
     },
     "execution_count": 87,
     "metadata": {},
     "output_type": "execute_result"
    }
   ],
   "source": [
    "c.pop(6)"
   ]
  },
  {
   "cell_type": "code",
   "execution_count": 89,
   "id": "ba0fc47d-32ca-486b-8e9c-e05fb54748dc",
   "metadata": {},
   "outputs": [
    {
     "data": {
      "text/plain": [
       "[203, 'hyderabad', 45, True, False, 78, 34.9, 80]"
      ]
     },
     "execution_count": 89,
     "metadata": {},
     "output_type": "execute_result"
    }
   ],
   "source": [
    "c"
   ]
  },
  {
   "cell_type": "code",
   "execution_count": 93,
   "id": "3855bb0a-8993-44e8-8c0e-a52e049c2746",
   "metadata": {},
   "outputs": [],
   "source": [
    "c.insert(1,\"Rohit\")"
   ]
  },
  {
   "cell_type": "code",
   "execution_count": 95,
   "id": "5f97e8c8-98cf-4733-b442-da9eed655bde",
   "metadata": {},
   "outputs": [
    {
     "data": {
      "text/plain": [
       "[203, 'Rohit', 'hyderabad', 45, True, False, 78, 34.9, 80]"
      ]
     },
     "execution_count": 95,
     "metadata": {},
     "output_type": "execute_result"
    }
   ],
   "source": [
    "c"
   ]
  },
  {
   "cell_type": "code",
   "execution_count": 97,
   "id": "de5b8e9e-dfa5-47d3-afb4-abb62b0b27c3",
   "metadata": {},
   "outputs": [
    {
     "data": {
      "text/plain": [
       "1"
      ]
     },
     "execution_count": 97,
     "metadata": {},
     "output_type": "execute_result"
    }
   ],
   "source": [
    "c.count(203)"
   ]
  },
  {
   "cell_type": "code",
   "execution_count": 99,
   "id": "260b18cb-e2f5-4aad-ac22-381bd5e3b0c0",
   "metadata": {},
   "outputs": [
    {
     "ename": "AttributeError",
     "evalue": "'list' object has no attribute 'extends'",
     "output_type": "error",
     "traceback": [
      "\u001b[1;31m---------------------------------------------------------------------------\u001b[0m",
      "\u001b[1;31mAttributeError\u001b[0m                            Traceback (most recent call last)",
      "Cell \u001b[1;32mIn[99], line 1\u001b[0m\n\u001b[1;32m----> 1\u001b[0m c\u001b[38;5;241m.\u001b[39mextends([\u001b[38;5;241m24\u001b[39m,\u001b[38;5;241m34\u001b[39m])\n",
      "\u001b[1;31mAttributeError\u001b[0m: 'list' object has no attribute 'extends'"
     ]
    }
   ],
   "source": [
    "c.extends([24,34])"
   ]
  },
  {
   "cell_type": "code",
   "execution_count": null,
   "id": "8ab506eb-1e58-414b-865e-fd4348f321f7",
   "metadata": {},
   "outputs": [],
   "source": []
  }
 ],
 "metadata": {
  "kernelspec": {
   "display_name": "Python [conda env:base] *",
   "language": "python",
   "name": "conda-base-py"
  },
  "language_info": {
   "codemirror_mode": {
    "name": "ipython",
    "version": 3
   },
   "file_extension": ".py",
   "mimetype": "text/x-python",
   "name": "python",
   "nbconvert_exporter": "python",
   "pygments_lexer": "ipython3",
   "version": "3.12.7"
  }
 },
 "nbformat": 4,
 "nbformat_minor": 5
}
