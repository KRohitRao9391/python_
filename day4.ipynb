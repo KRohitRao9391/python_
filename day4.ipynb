{
 "cells": [
  {
   "cell_type": "raw",
   "id": "24028b8d-44f3-4fdf-9def-4deae5ad3f62",
   "metadata": {},
   "source": [
    "if condition1:\n",
    "    task1 block of code\n",
    "elif condition2:\n",
    "    task2 block of code\n",
    "elif condition3:\n",
    "    task3 block of code\n",
    ".\n",
    ",\n",
    ".\n",
    "elif condition n:\n",
    "    task n \n",
    "\n",
    "else: \n",
    "    task4 block of code"
   ]
  },
  {
   "cell_type": "code",
   "execution_count": 3,
   "id": "3c5f30ab-e580-412e-b698-fd5f128eed7d",
   "metadata": {},
   "outputs": [
    {
     "name": "stdout",
     "output_type": "stream",
     "text": [
      "odd\n"
     ]
    }
   ],
   "source": [
    "x=9\n",
    "if x%2==0:\n",
    "    print(\"Even\")\n",
    "else:\n",
    "    print(\"odd\")"
   ]
  },
  {
   "cell_type": "code",
   "execution_count": 23,
   "id": "d71d5bf9-81ad-4ab1-a400-921d2b49fd12",
   "metadata": {},
   "outputs": [
    {
     "name": "stdout",
     "output_type": "stream",
     "text": [
      "pos\n",
      "K\n"
     ]
    }
   ],
   "source": [
    "x=7\n",
    "if x>0:\n",
    "    print(\"pos\")\n",
    "    if x>10:\n",
    "        print(\"M\")\n",
    "    elif x>20:\n",
    "        print(\"P\")\n",
    "    elif x<10:\n",
    "        print(\"K\")\n",
    "    else:\n",
    "        print(\"T\")\n",
    "elif x<0:\n",
    "    print(\"neg\")\n",
    "    if x<-20:\n",
    "        print(\"Q\")\n",
    "    elif x>-10:\n",
    "        print(\"C\")\n",
    "    elif x>-30:\n",
    "        print(\"Z\")\n",
    "else:\n",
    "    print(\"zero\")"
   ]
  },
  {
   "cell_type": "code",
   "execution_count": 37,
   "id": "b70acac6-ca59-44a3-a9f4-d13eb610a28a",
   "metadata": {},
   "outputs": [
    {
     "name": "stdout",
     "output_type": "stream",
     "text": [
      "True\n"
     ]
    }
   ],
   "source": [
    "x=\"Telangana\"\n",
    "if x[0]==\"T\":\n",
    "    print(\"True\")\n",
    "else:\n",
    "    print(\"False\")"
   ]
  },
  {
   "cell_type": "code",
   "execution_count": 77,
   "id": "18485f65-7061-423b-8ea8-bf382a4a60b8",
   "metadata": {},
   "outputs": [
    {
     "name": "stdout",
     "output_type": "stream",
     "text": [
      "Yes\n"
     ]
    }
   ],
   "source": [
    "\n",
    "x=\"maharastra\"\n",
    "if x[0]==\"T\"or x[0]==\"S\" or x[0]==\"M\" or x[0]==\"m\":\n",
    "    print(\"Yes\")\n",
    "else:\n",
    "    print(\"No\")"
   ]
  },
  {
   "cell_type": "code",
   "execution_count": 65,
   "id": "d441fc85-de84-46d8-800c-330d701fafb9",
   "metadata": {},
   "outputs": [
    {
     "name": "stdout",
     "output_type": "stream",
     "text": [
      "Yes\n"
     ]
    }
   ],
   "source": [
    "x=\"Talangana\"\n",
    "if x[0].lower()==\"t\":\n",
    "    print(\"Yes\")\n",
    "else:\n",
    "    print(\"No\")"
   ]
  },
  {
   "cell_type": "code",
   "execution_count": 69,
   "id": "d043f72e-e5ba-468c-a51d-40f04162e792",
   "metadata": {},
   "outputs": [
    {
     "name": "stdout",
     "output_type": "stream",
     "text": [
      "Yes\n"
     ]
    }
   ],
   "source": [
    "x=\"talangana\"\n",
    "if x[0].lower() in (\"t\",\"s\",\"m\"):\n",
    "    print(\"Yes\")\n",
    "else:\n",
    "    print(\"No\")"
   ]
  },
  {
   "cell_type": "code",
   "execution_count": null,
   "id": "09b014bb-4ed7-4c04-b5ee-0499d66138d8",
   "metadata": {},
   "outputs": [],
   "source": []
  }
 ],
 "metadata": {
  "kernelspec": {
   "display_name": "Python [conda env:base] *",
   "language": "python",
   "name": "conda-base-py"
  },
  "language_info": {
   "codemirror_mode": {
    "name": "ipython",
    "version": 3
   },
   "file_extension": ".py",
   "mimetype": "text/x-python",
   "name": "python",
   "nbconvert_exporter": "python",
   "pygments_lexer": "ipython3",
   "version": "3.12.7"
  }
 },
 "nbformat": 4,
 "nbformat_minor": 5
}
